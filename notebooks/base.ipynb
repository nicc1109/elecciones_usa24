{
 "cells": [
  {
   "cell_type": "code",
   "execution_count": 1,
   "metadata": {},
   "outputs": [
    {
     "name": "stdout",
     "output_type": "stream",
     "text": [
      "Path del proyecto cargado: C:/Users/Lenovo/Desktop/Escritorio/Datos/python/data/elecciones_usa24\n",
      "Entorno configurado y variables de entorno cargadas.\n",
      "Librerías importadas y configuradas correctamente.\n"
     ]
    }
   ],
   "source": [
    "%run setup.py"
   ]
  },
  {
   "cell_type": "code",
   "execution_count": 2,
   "metadata": {},
   "outputs": [],
   "source": [
    "from src import cargar_csv\n",
    "from src import fechas"
   ]
  },
  {
   "cell_type": "code",
   "execution_count": 3,
   "metadata": {},
   "outputs": [],
   "source": [
    "candidates = cargar_csv('../elecc_usa24/candidates.csv')\n",
    "primaries_and_caucases = cargar_csv('../elecc_usa24/primaries_and_caucuses.csv')\n",
    "delegate_counts = cargar_csv('../elecc_usa24/delegate_counts.csv')"
   ]
  },
  {
   "cell_type": "markdown",
   "metadata": {},
   "source": [
    "#CANDIDATOS POR PARTIDO.    "
   ]
  },
  {
   "cell_type": "code",
   "execution_count": 4,
   "metadata": {},
   "outputs": [],
   "source": [
    "candidatos_rep = candidates[candidates['party'] == 'republican']\n",
    "candidatos_dem = candidates[candidates['party'] == 'democrat']  \n",
    "candidatos_ind = candidates[candidates['party'] == 'independent']   "
   ]
  },
  {
   "cell_type": "markdown",
   "metadata": {},
   "source": [
    "#CAND REPUBLICANOS"
   ]
  },
  {
   "cell_type": "code",
   "execution_count": 15,
   "metadata": {},
   "outputs": [
    {
     "name": "stderr",
     "output_type": "stream",
     "text": [
      "c:\\Users\\Lenovo\\Desktop\\Escritorio\\Datos\\python\\data\\elecciones_usa24\\elecciones_usa24\\src\\cleaning.py:125: UserWarning: Parsing dates in %d/%m/%Y format when dayfirst=False (the default) was specified. Pass `dayfirst=True` or specify a format to silence this warning.\n",
      "  df[col] = pd.to_datetime(df[col]).dt.strftime('%d/%m/%Y')\n",
      "c:\\Users\\Lenovo\\Desktop\\Escritorio\\Datos\\python\\data\\elecciones_usa24\\elecciones_usa24\\src\\cleaning.py:125: SettingWithCopyWarning: \n",
      "A value is trying to be set on a copy of a slice from a DataFrame.\n",
      "Try using .loc[row_indexer,col_indexer] = value instead\n",
      "\n",
      "See the caveats in the documentation: https://pandas.pydata.org/pandas-docs/stable/user_guide/indexing.html#returning-a-view-versus-a-copy\n",
      "  df[col] = pd.to_datetime(df[col]).dt.strftime('%d/%m/%Y')\n",
      "c:\\Users\\Lenovo\\Desktop\\Escritorio\\Datos\\python\\data\\elecciones_usa24\\elecciones_usa24\\src\\cleaning.py:125: UserWarning: Parsing dates in %d/%m/%Y format when dayfirst=False (the default) was specified. Pass `dayfirst=True` or specify a format to silence this warning.\n",
      "  df[col] = pd.to_datetime(df[col]).dt.strftime('%d/%m/%Y')\n",
      "c:\\Users\\Lenovo\\Desktop\\Escritorio\\Datos\\python\\data\\elecciones_usa24\\elecciones_usa24\\src\\cleaning.py:125: SettingWithCopyWarning: \n",
      "A value is trying to be set on a copy of a slice from a DataFrame.\n",
      "Try using .loc[row_indexer,col_indexer] = value instead\n",
      "\n",
      "See the caveats in the documentation: https://pandas.pydata.org/pandas-docs/stable/user_guide/indexing.html#returning-a-view-versus-a-copy\n",
      "  df[col] = pd.to_datetime(df[col]).dt.strftime('%d/%m/%Y')\n"
     ]
    }
   ],
   "source": [
    "candidatos_rep = fechas(candidatos_rep, 'date_announced', 'date_withdrawn')"
   ]
  },
  {
   "cell_type": "code",
   "execution_count": 23,
   "metadata": {},
   "outputs": [
    {
     "name": "stderr",
     "output_type": "stream",
     "text": [
      "c:\\Users\\Lenovo\\Desktop\\Escritorio\\Datos\\python\\data\\elecciones_usa24\\elecciones_usa24\\src\\cleaning.py:125: UserWarning: Parsing dates in %d/%m/%Y format when dayfirst=False (the default) was specified. Pass `dayfirst=True` or specify a format to silence this warning.\n",
      "  df[col] = pd.to_datetime(df[col]).dt.strftime('%d/%m/%Y')\n",
      "c:\\Users\\Lenovo\\Desktop\\Escritorio\\Datos\\python\\data\\elecciones_usa24\\elecciones_usa24\\src\\cleaning.py:125: SettingWithCopyWarning: \n",
      "A value is trying to be set on a copy of a slice from a DataFrame.\n",
      "Try using .loc[row_indexer,col_indexer] = value instead\n",
      "\n",
      "See the caveats in the documentation: https://pandas.pydata.org/pandas-docs/stable/user_guide/indexing.html#returning-a-view-versus-a-copy\n",
      "  df[col] = pd.to_datetime(df[col]).dt.strftime('%d/%m/%Y')\n"
     ]
    },
    {
     "data": {
      "text/html": [
       "<div>\n",
       "<style scoped>\n",
       "    .dataframe tbody tr th:only-of-type {\n",
       "        vertical-align: middle;\n",
       "    }\n",
       "\n",
       "    .dataframe tbody tr th {\n",
       "        vertical-align: top;\n",
       "    }\n",
       "\n",
       "    .dataframe thead th {\n",
       "        text-align: right;\n",
       "    }\n",
       "</style>\n",
       "<table border=\"1\" class=\"dataframe\">\n",
       "  <thead>\n",
       "    <tr style=\"text-align: right;\">\n",
       "      <th></th>\n",
       "      <th>party</th>\n",
       "      <th>name</th>\n",
       "      <th>date_announced</th>\n",
       "      <th>date_withdrawn</th>\n",
       "      <th>debates</th>\n",
       "    </tr>\n",
       "  </thead>\n",
       "  <tbody>\n",
       "    <tr>\n",
       "      <th>8</th>\n",
       "      <td>republican</td>\n",
       "      <td>Asa Hutchinson</td>\n",
       "      <td>26/04/2023</td>\n",
       "      <td>16/01/2024</td>\n",
       "      <td>cuarto debate</td>\n",
       "    </tr>\n",
       "    <tr>\n",
       "      <th>9</th>\n",
       "      <td>republican</td>\n",
       "      <td>Chris Christie</td>\n",
       "      <td>06/06/2023</td>\n",
       "      <td>10/01/2024</td>\n",
       "      <td>cuarto debate</td>\n",
       "    </tr>\n",
       "    <tr>\n",
       "      <th>10</th>\n",
       "      <td>republican</td>\n",
       "      <td>Donald Trump</td>\n",
       "      <td>16/11/2022</td>\n",
       "      <td>NaN</td>\n",
       "      <td>no debate</td>\n",
       "    </tr>\n",
       "    <tr>\n",
       "      <th>11</th>\n",
       "      <td>republican</td>\n",
       "      <td>Doug Burgum</td>\n",
       "      <td>07/06/2023</td>\n",
       "      <td>04/12/2023</td>\n",
       "      <td>tercer debate</td>\n",
       "    </tr>\n",
       "    <tr>\n",
       "      <th>12</th>\n",
       "      <td>republican</td>\n",
       "      <td>Francis Suarez</td>\n",
       "      <td>15/06/2023</td>\n",
       "      <td>29/08/2023</td>\n",
       "      <td>primer debate</td>\n",
       "    </tr>\n",
       "    <tr>\n",
       "      <th>13</th>\n",
       "      <td>republican</td>\n",
       "      <td>Larry Elder</td>\n",
       "      <td>20/06/2023</td>\n",
       "      <td>26/10/2023</td>\n",
       "      <td>segundo debate</td>\n",
       "    </tr>\n",
       "    <tr>\n",
       "      <th>14</th>\n",
       "      <td>republican</td>\n",
       "      <td>Mike Pence</td>\n",
       "      <td>07/06/2023</td>\n",
       "      <td>28/10/2023</td>\n",
       "      <td>segundo debate</td>\n",
       "    </tr>\n",
       "    <tr>\n",
       "      <th>15</th>\n",
       "      <td>republican</td>\n",
       "      <td>Nikki Haley</td>\n",
       "      <td>14/02/2023</td>\n",
       "      <td>06/03/2024</td>\n",
       "      <td>cuarto debate</td>\n",
       "    </tr>\n",
       "    <tr>\n",
       "      <th>16</th>\n",
       "      <td>republican</td>\n",
       "      <td>Perry Johnson</td>\n",
       "      <td>03/03/2023</td>\n",
       "      <td>20/10/2023</td>\n",
       "      <td>segundo debate</td>\n",
       "    </tr>\n",
       "    <tr>\n",
       "      <th>17</th>\n",
       "      <td>republican</td>\n",
       "      <td>Ron DeSantis</td>\n",
       "      <td>24/05/2023</td>\n",
       "      <td>21/01/2024</td>\n",
       "      <td>cuarto debate</td>\n",
       "    </tr>\n",
       "    <tr>\n",
       "      <th>18</th>\n",
       "      <td>republican</td>\n",
       "      <td>Tim Scott</td>\n",
       "      <td>19/05/2023</td>\n",
       "      <td>12/11/2023</td>\n",
       "      <td>tercer debate</td>\n",
       "    </tr>\n",
       "    <tr>\n",
       "      <th>19</th>\n",
       "      <td>republican</td>\n",
       "      <td>Vivek Ramaswamy</td>\n",
       "      <td>21/02/2023</td>\n",
       "      <td>15/01/2024</td>\n",
       "      <td>cuarto debate</td>\n",
       "    </tr>\n",
       "    <tr>\n",
       "      <th>20</th>\n",
       "      <td>republican</td>\n",
       "      <td>Will Hurd</td>\n",
       "      <td>22/06/2023</td>\n",
       "      <td>09/10/2023</td>\n",
       "      <td>segundo debate</td>\n",
       "    </tr>\n",
       "  </tbody>\n",
       "</table>\n",
       "</div>"
      ],
      "text/plain": [
       "         party             name date_announced date_withdrawn         debates\n",
       "8   republican   Asa Hutchinson     26/04/2023     16/01/2024   cuarto debate\n",
       "9   republican   Chris Christie     06/06/2023     10/01/2024   cuarto debate\n",
       "10  republican     Donald Trump     16/11/2022            NaN       no debate\n",
       "11  republican      Doug Burgum     07/06/2023     04/12/2023   tercer debate\n",
       "12  republican   Francis Suarez     15/06/2023     29/08/2023   primer debate\n",
       "13  republican      Larry Elder     20/06/2023     26/10/2023  segundo debate\n",
       "14  republican       Mike Pence     07/06/2023     28/10/2023  segundo debate\n",
       "15  republican      Nikki Haley     14/02/2023     06/03/2024   cuarto debate\n",
       "16  republican    Perry Johnson     03/03/2023     20/10/2023  segundo debate\n",
       "17  republican     Ron DeSantis     24/05/2023     21/01/2024   cuarto debate\n",
       "18  republican        Tim Scott     19/05/2023     12/11/2023   tercer debate\n",
       "19  republican  Vivek Ramaswamy     21/02/2023     15/01/2024   cuarto debate\n",
       "20  republican        Will Hurd     22/06/2023     09/10/2023  segundo debate"
      ]
     },
     "execution_count": 23,
     "metadata": {},
     "output_type": "execute_result"
    }
   ],
   "source": [
    "fechas(candidatos_rep, 'date_withdrawn')"
   ]
  },
  {
   "cell_type": "code",
   "execution_count": 24,
   "metadata": {},
   "outputs": [
    {
     "name": "stdout",
     "output_type": "stream",
     "text": [
      "         party             name date_announced date_withdrawn         debates\n",
      "8   republican   Asa Hutchinson     26/04/2023     2024-01-16   cuarto debate\n",
      "9   republican   Chris Christie     06/06/2023     2024-01-10   cuarto debate\n",
      "10  republican     Donald Trump     16/11/2022            NaT       no debate\n",
      "11  republican      Doug Burgum     07/06/2023     2023-12-04   tercer debate\n",
      "12  republican   Francis Suarez     15/06/2023     2023-08-29   primer debate\n",
      "13  republican      Larry Elder     20/06/2023     2023-10-26  segundo debate\n",
      "14  republican       Mike Pence     07/06/2023     2023-10-28  segundo debate\n",
      "15  republican      Nikki Haley     14/02/2023     2024-03-06   cuarto debate\n",
      "16  republican    Perry Johnson     03/03/2023     2023-10-20  segundo debate\n",
      "17  republican     Ron DeSantis     24/05/2023     2024-01-21   cuarto debate\n",
      "18  republican        Tim Scott     19/05/2023     2023-11-12   tercer debate\n",
      "19  republican  Vivek Ramaswamy     21/02/2023     2024-01-15   cuarto debate\n",
      "20  republican        Will Hurd     22/06/2023     2023-10-09  segundo debate\n"
     ]
    },
    {
     "name": "stderr",
     "output_type": "stream",
     "text": [
      "C:\\Users\\Lenovo\\AppData\\Local\\Temp\\ipykernel_5168\\3245392599.py:4: SettingWithCopyWarning: \n",
      "A value is trying to be set on a copy of a slice from a DataFrame.\n",
      "Try using .loc[row_indexer,col_indexer] = value instead\n",
      "\n",
      "See the caveats in the documentation: https://pandas.pydata.org/pandas-docs/stable/user_guide/indexing.html#returning-a-view-versus-a-copy\n",
      "  candidatos_rep['date_withdrawn'] = pd.to_datetime(candidatos_rep['date_withdrawn'], format='%d/%m/%Y')\n",
      "C:\\Users\\Lenovo\\AppData\\Local\\Temp\\ipykernel_5168\\3245392599.py:15: SettingWithCopyWarning: \n",
      "A value is trying to be set on a copy of a slice from a DataFrame.\n",
      "Try using .loc[row_indexer,col_indexer] = value instead\n",
      "\n",
      "See the caveats in the documentation: https://pandas.pydata.org/pandas-docs/stable/user_guide/indexing.html#returning-a-view-versus-a-copy\n",
      "  candidatos_rep['debates'] = 'no debate'\n"
     ]
    }
   ],
   "source": [
    "import pandas as pd\n",
    "\n",
    "# Asegúrate de que la columna 'date_withdrawn' esté en formato de fecha\n",
    "candidatos_rep['date_withdrawn'] = pd.to_datetime(candidatos_rep['date_withdrawn'], format='%d/%m/%Y')\n",
    "\n",
    "# Define las fechas límite para cada debate\n",
    "debate_dates = {\n",
    "    'primer debate': pd.to_datetime('2023-08-23', format='%Y-%m-%d'),\n",
    "    'segundo debate': pd.to_datetime('2023-09-27', format='%Y-%m-%d'),\n",
    "    'tercer debate': pd.to_datetime('2023-11-08', format='%Y-%m-%d'),\n",
    "    'cuarto debate': pd.to_datetime('2023-12-06', format='%Y-%m-%d')\n",
    "}\n",
    "\n",
    "# Crear la nueva columna 'debates' basada en las condiciones especificadas\n",
    "candidatos_rep['debates'] = 'no debate'\n",
    "candidatos_rep.loc[candidatos_rep['date_withdrawn'] > debate_dates['primer debate'], 'debates'] = 'primer debate'\n",
    "candidatos_rep.loc[candidatos_rep['date_withdrawn'] > debate_dates['segundo debate'], 'debates'] = 'segundo debate'\n",
    "candidatos_rep.loc[candidatos_rep['date_withdrawn'] > debate_dates['tercer debate'], 'debates'] = 'tercer debate'\n",
    "candidatos_rep.loc[candidatos_rep['date_withdrawn'] > debate_dates['cuarto debate'], 'debates'] = 'cuarto debate'\n",
    "\n",
    "# Muestra el DataFrame actualizado\n",
    "print(candidatos_rep)"
   ]
  },
  {
   "cell_type": "markdown",
   "metadata": {},
   "source": [
    "DELEGATES REPUBLICANOS\n"
   ]
  },
  {
   "cell_type": "code",
   "execution_count": 18,
   "metadata": {},
   "outputs": [
    {
     "name": "stderr",
     "output_type": "stream",
     "text": [
      "c:\\Users\\Lenovo\\Desktop\\Escritorio\\Datos\\python\\data\\elecciones_usa24\\elecciones_usa24\\src\\cleaning.py:125: UserWarning: Could not infer format, so each element will be parsed individually, falling back to `dateutil`. To ensure parsing is consistent and as-expected, please specify a format.\n",
      "  df[col] = pd.to_datetime(df[col]).dt.strftime('%d/%m/%Y')\n"
     ]
    }
   ],
   "source": [
    "# Agregar el año '-24' a la columna 'Date'\n",
    "delegate_counts['Date'] = delegate_counts['Date'] + '-24'\n",
    "\n",
    "# Aplicar la función fechas para formatear las fechas al formato DD/MM/AAAA\n",
    "delegate_counts = fechas(delegate_counts, 'Date')\n"
   ]
  },
  {
   "cell_type": "code",
   "execution_count": 5,
   "metadata": {},
   "outputs": [
    {
     "data": {
      "text/plain": [
       "1247"
      ]
     },
     "execution_count": 5,
     "metadata": {},
     "output_type": "execute_result"
    }
   ],
   "source": [
    "#total delegados TRUMP\n",
    "delegate_counts['Trump'].sum()\n"
   ]
  },
  {
   "cell_type": "code",
   "execution_count": 6,
   "metadata": {},
   "outputs": [
    {
     "data": {
      "text/plain": [
       "93"
      ]
     },
     "execution_count": 6,
     "metadata": {},
     "output_type": "execute_result"
    }
   ],
   "source": [
    "#total delegados haley\n",
    "delegate_counts['Haley'].sum()"
   ]
  },
  {
   "cell_type": "code",
   "execution_count": null,
   "metadata": {},
   "outputs": [
    {
     "data": {
      "text/plain": [
       "9"
      ]
     },
     "execution_count": 7,
     "metadata": {},
     "output_type": "execute_result"
    }
   ],
   "source": [
    "#total delegados de sanctis\n",
    "print(delegate_counts['DeSantis'].sum())\n"
   ]
  },
  {
   "cell_type": "code",
   "execution_count": 19,
   "metadata": {},
   "outputs": [
    {
     "data": {
      "text/plain": [
       "3"
      ]
     },
     "execution_count": 19,
     "metadata": {},
     "output_type": "execute_result"
    }
   ],
   "source": [
    "delegate_counts['Ramaswamy'].sum()"
   ]
  },
  {
   "cell_type": "code",
   "execution_count": 8,
   "metadata": {},
   "outputs": [
    {
     "name": "stdout",
     "output_type": "stream",
     "text": [
      "['District of Columbia >', 'Vermont >']\n"
     ]
    }
   ],
   "source": [
    "#estados donde haley tuvo mas delegados\n",
    "estados_haley = delegate_counts[delegate_counts['Haley'] > delegate_counts['Trump']]['State']\n",
    "print(estados_haley.tolist())"
   ]
  },
  {
   "cell_type": "code",
   "execution_count": 9,
   "metadata": {},
   "outputs": [
    {
     "name": "stdout",
     "output_type": "stream",
     "text": [
      "<bound method IndexOpsMixin.tolist of 0               Iowa >\n",
      "1      New Hampshire >\n",
      "2             Nevada >\n",
      "3     Virgin Islands >\n",
      "4     South Carolina >\n",
      "5           Michigan >\n",
      "6              Idaho >\n",
      "7           Michigan >\n",
      "8           Missouri >\n",
      "10      North Dakota >\n",
      "11            Alaska >\n",
      "12           Alabama >\n",
      "13          Arkansas >\n",
      "14        California >\n",
      "15          Colorado >\n",
      "16     Massachusetts >\n",
      "17             Maine >\n",
      "18         Minnesota >\n",
      "19    North Carolina >\n",
      "20          Oklahoma >\n",
      "21         Tennessee >\n",
      "22             Texas >\n",
      "23              Utah >\n",
      "24          Virginia >\n",
      "26    American Samoa >\n",
      "27           Georgia >\n",
      "28            Hawaii >\n",
      "29       Mississippi >\n",
      "30        Washington >\n",
      "Name: State, dtype: object>\n"
     ]
    }
   ],
   "source": [
    "#estados donde gano trump la cuenta de delegados\n",
    "estados_trump = delegate_counts[delegate_counts['Trump'] > delegate_counts['Haley']]['State']\n",
    "print(estados_trump.to_list)"
   ]
  },
  {
   "cell_type": "code",
   "execution_count": 10,
   "metadata": {},
   "outputs": [
    {
     "name": "stdout",
     "output_type": "stream",
     "text": [
      "<bound method IndexOpsMixin.tolist of 2             Nevada >\n",
      "3     Virgin Islands >\n",
      "6              Idaho >\n",
      "7           Michigan >\n",
      "8           Missouri >\n",
      "10      North Dakota >\n",
      "11            Alaska >\n",
      "12           Alabama >\n",
      "14        California >\n",
      "16     Massachusetts >\n",
      "17             Maine >\n",
      "20          Oklahoma >\n",
      "21         Tennessee >\n",
      "22             Texas >\n",
      "23              Utah >\n",
      "26    American Samoa >\n",
      "27           Georgia >\n",
      "28            Hawaii >\n",
      "29       Mississippi >\n",
      "Name: State, dtype: object>\n"
     ]
    }
   ],
   "source": [
    "#estados donde TODOS los delegados fueron para Trump\n",
    "trump_todos = delegate_counts[delegate_counts['Total delegates'] == delegate_counts['Trump']]['State']\n",
    "print(trump_todos.to_list)"
   ]
  },
  {
   "cell_type": "code",
   "execution_count": null,
   "metadata": {},
   "outputs": [
    {
     "name": "stdout",
     "output_type": "stream",
     "text": [
      "         Date            State  Total delegates  Trump  Haley  DeSantis  \\\n",
      "0  15/01/2024           Iowa >               40     20      8         9   \n",
      "1  23/01/2024  New Hampshire >               22     13      9         0   \n",
      "\n",
      "   Ramaswamy  \n",
      "0          3  \n",
      "1          0  \n"
     ]
    }
   ],
   "source": [
    "#IOWA Y NEW HAMPSHIRE. marcan el inicio de las primarias\n",
    "print(delegate_counts.iloc[0:2])"
   ]
  },
  {
   "cell_type": "markdown",
   "metadata": {},
   "source": [
    "TODOS LOS PARTIDOS CANDIDATOS."
   ]
  },
  {
   "cell_type": "code",
   "execution_count": 11,
   "metadata": {},
   "outputs": [
    {
     "name": "stdout",
     "output_type": "stream",
     "text": [
      "          party           name date_announced date_withdrawn\n",
      "3      democrat  Kamala Harris       7/1/2024            NaN\n",
      "4   independent    Cornel West       6/5/2023            NaN\n",
      "5   libertarian   Oliver Chase       4/4/2023            NaN\n",
      "6         green     Jill Stein      11/9/2023            NaN\n",
      "10   republican   Donald Trump     11/16/2022            NaN\n"
     ]
    }
   ],
   "source": [
    "#CANDIDATOS QUE LLEGARON HASTA EL FINAL, que no se retiraron\n",
    "candidatos_final = candidates[candidates['date_withdrawn'].isna()]\n",
    "print(candidatos_final)"
   ]
  },
  {
   "cell_type": "code",
   "execution_count": 12,
   "metadata": {},
   "outputs": [
    {
     "name": "stdout",
     "output_type": "stream",
     "text": [
      "['democrat' 'independent' 'libertarian' 'green' 'republican']\n"
     ]
    }
   ],
   "source": [
    "#partidos\n",
    "print(candidates['party'].unique())"
   ]
  },
  {
   "cell_type": "code",
   "execution_count": 22,
   "metadata": {},
   "outputs": [
    {
     "name": "stderr",
     "output_type": "stream",
     "text": [
      "c:\\Users\\Lenovo\\Desktop\\Escritorio\\Datos\\python\\data\\elecciones_usa24\\elecciones_usa24\\src\\cleaning.py:125: SettingWithCopyWarning: \n",
      "A value is trying to be set on a copy of a slice from a DataFrame.\n",
      "Try using .loc[row_indexer,col_indexer] = value instead\n",
      "\n",
      "See the caveats in the documentation: https://pandas.pydata.org/pandas-docs/stable/user_guide/indexing.html#returning-a-view-versus-a-copy\n",
      "  df[col] = pd.to_datetime(df[col]).dt.strftime('%d/%m/%Y')\n"
     ]
    },
    {
     "data": {
      "text/html": [
       "<div>\n",
       "<style scoped>\n",
       "    .dataframe tbody tr th:only-of-type {\n",
       "        vertical-align: middle;\n",
       "    }\n",
       "\n",
       "    .dataframe tbody tr th {\n",
       "        vertical-align: top;\n",
       "    }\n",
       "\n",
       "    .dataframe thead th {\n",
       "        text-align: right;\n",
       "    }\n",
       "</style>\n",
       "<table border=\"1\" class=\"dataframe\">\n",
       "  <thead>\n",
       "    <tr style=\"text-align: right;\">\n",
       "      <th></th>\n",
       "      <th>party</th>\n",
       "      <th>name</th>\n",
       "      <th>date_announced</th>\n",
       "      <th>date_withdrawn</th>\n",
       "      <th>debates</th>\n",
       "    </tr>\n",
       "  </thead>\n",
       "  <tbody>\n",
       "    <tr>\n",
       "      <th>8</th>\n",
       "      <td>republican</td>\n",
       "      <td>Asa Hutchinson</td>\n",
       "      <td>26/04/2023</td>\n",
       "      <td>16/01/2024</td>\n",
       "      <td>cuarto debate</td>\n",
       "    </tr>\n",
       "    <tr>\n",
       "      <th>9</th>\n",
       "      <td>republican</td>\n",
       "      <td>Chris Christie</td>\n",
       "      <td>06/06/2023</td>\n",
       "      <td>10/01/2024</td>\n",
       "      <td>cuarto debate</td>\n",
       "    </tr>\n",
       "    <tr>\n",
       "      <th>10</th>\n",
       "      <td>republican</td>\n",
       "      <td>Donald Trump</td>\n",
       "      <td>16/11/2022</td>\n",
       "      <td>NaN</td>\n",
       "      <td>no debate</td>\n",
       "    </tr>\n",
       "    <tr>\n",
       "      <th>11</th>\n",
       "      <td>republican</td>\n",
       "      <td>Doug Burgum</td>\n",
       "      <td>07/06/2023</td>\n",
       "      <td>04/12/2023</td>\n",
       "      <td>tercer debate</td>\n",
       "    </tr>\n",
       "    <tr>\n",
       "      <th>12</th>\n",
       "      <td>republican</td>\n",
       "      <td>Francis Suarez</td>\n",
       "      <td>15/06/2023</td>\n",
       "      <td>29/08/2023</td>\n",
       "      <td>primer debate</td>\n",
       "    </tr>\n",
       "    <tr>\n",
       "      <th>13</th>\n",
       "      <td>republican</td>\n",
       "      <td>Larry Elder</td>\n",
       "      <td>20/06/2023</td>\n",
       "      <td>26/10/2023</td>\n",
       "      <td>segundo debate</td>\n",
       "    </tr>\n",
       "    <tr>\n",
       "      <th>14</th>\n",
       "      <td>republican</td>\n",
       "      <td>Mike Pence</td>\n",
       "      <td>07/06/2023</td>\n",
       "      <td>28/10/2023</td>\n",
       "      <td>segundo debate</td>\n",
       "    </tr>\n",
       "    <tr>\n",
       "      <th>15</th>\n",
       "      <td>republican</td>\n",
       "      <td>Nikki Haley</td>\n",
       "      <td>14/02/2023</td>\n",
       "      <td>06/03/2024</td>\n",
       "      <td>cuarto debate</td>\n",
       "    </tr>\n",
       "    <tr>\n",
       "      <th>16</th>\n",
       "      <td>republican</td>\n",
       "      <td>Perry Johnson</td>\n",
       "      <td>03/03/2023</td>\n",
       "      <td>20/10/2023</td>\n",
       "      <td>segundo debate</td>\n",
       "    </tr>\n",
       "    <tr>\n",
       "      <th>17</th>\n",
       "      <td>republican</td>\n",
       "      <td>Ron DeSantis</td>\n",
       "      <td>24/05/2023</td>\n",
       "      <td>21/01/2024</td>\n",
       "      <td>cuarto debate</td>\n",
       "    </tr>\n",
       "    <tr>\n",
       "      <th>18</th>\n",
       "      <td>republican</td>\n",
       "      <td>Tim Scott</td>\n",
       "      <td>19/05/2023</td>\n",
       "      <td>12/11/2023</td>\n",
       "      <td>tercer debate</td>\n",
       "    </tr>\n",
       "    <tr>\n",
       "      <th>19</th>\n",
       "      <td>republican</td>\n",
       "      <td>Vivek Ramaswamy</td>\n",
       "      <td>21/02/2023</td>\n",
       "      <td>15/01/2024</td>\n",
       "      <td>cuarto debate</td>\n",
       "    </tr>\n",
       "    <tr>\n",
       "      <th>20</th>\n",
       "      <td>republican</td>\n",
       "      <td>Will Hurd</td>\n",
       "      <td>22/06/2023</td>\n",
       "      <td>09/10/2023</td>\n",
       "      <td>segundo debate</td>\n",
       "    </tr>\n",
       "  </tbody>\n",
       "</table>\n",
       "</div>"
      ],
      "text/plain": [
       "         party             name date_announced date_withdrawn         debates\n",
       "8   republican   Asa Hutchinson     26/04/2023     16/01/2024   cuarto debate\n",
       "9   republican   Chris Christie     06/06/2023     10/01/2024   cuarto debate\n",
       "10  republican     Donald Trump     16/11/2022            NaN       no debate\n",
       "11  republican      Doug Burgum     07/06/2023     04/12/2023   tercer debate\n",
       "12  republican   Francis Suarez     15/06/2023     29/08/2023   primer debate\n",
       "13  republican      Larry Elder     20/06/2023     26/10/2023  segundo debate\n",
       "14  republican       Mike Pence     07/06/2023     28/10/2023  segundo debate\n",
       "15  republican      Nikki Haley     14/02/2023     06/03/2024   cuarto debate\n",
       "16  republican    Perry Johnson     03/03/2023     20/10/2023  segundo debate\n",
       "17  republican     Ron DeSantis     24/05/2023     21/01/2024   cuarto debate\n",
       "18  republican        Tim Scott     19/05/2023     12/11/2023   tercer debate\n",
       "19  republican  Vivek Ramaswamy     21/02/2023     15/01/2024   cuarto debate\n",
       "20  republican        Will Hurd     22/06/2023     09/10/2023  segundo debate"
      ]
     },
     "execution_count": 22,
     "metadata": {},
     "output_type": "execute_result"
    }
   ],
   "source": [
    "fechas(candidatos_rep, 'date_withdrawn')"
   ]
  }
 ],
 "metadata": {
  "kernelspec": {
   "display_name": "python1",
   "language": "python",
   "name": "python3"
  },
  "language_info": {
   "codemirror_mode": {
    "name": "ipython",
    "version": 3
   },
   "file_extension": ".py",
   "mimetype": "text/x-python",
   "name": "python",
   "nbconvert_exporter": "python",
   "pygments_lexer": "ipython3",
   "version": "3.12.4"
  }
 },
 "nbformat": 4,
 "nbformat_minor": 2
}
