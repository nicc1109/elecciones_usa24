{
 "cells": [
  {
   "cell_type": "code",
   "execution_count": 1,
   "metadata": {},
   "outputs": [
    {
     "name": "stdout",
     "output_type": "stream",
     "text": [
      "Path del proyecto cargado: C:/Users/Lenovo/Desktop/Escritorio/Datos/python/data/elecciones_usa24\n",
      "Entorno configurado y variables de entorno cargadas.\n",
      "Librerías importadas y configuradas correctamente.\n"
     ]
    }
   ],
   "source": [
    "%run setup.py"
   ]
  },
  {
   "cell_type": "code",
   "execution_count": 2,
   "metadata": {},
   "outputs": [],
   "source": [
    "from src import cargar_csv"
   ]
  },
  {
   "cell_type": "code",
   "execution_count": 3,
   "metadata": {},
   "outputs": [],
   "source": [
    "candidates = cargar_csv('../elecc_usa24/candidates.csv')\n",
    "primaries_and_caucases = cargar_csv('../elecc_usa24/primaries_and_caucuses.csv')\n",
    "delegate_counts = cargar_csv('../elecc_usa24/delegate_counts.csv')"
   ]
  },
  {
   "cell_type": "markdown",
   "metadata": {},
   "source": [
    "DELEGATES REPUBLICANOS\n"
   ]
  },
  {
   "cell_type": "code",
   "execution_count": null,
   "metadata": {},
   "outputs": [
    {
     "data": {
      "text/plain": [
       "1247"
      ]
     },
     "execution_count": 8,
     "metadata": {},
     "output_type": "execute_result"
    }
   ],
   "source": [
    "#total delegados TRUMP\n",
    "delegate_counts['Trump'].sum()\n"
   ]
  },
  {
   "cell_type": "code",
   "execution_count": null,
   "metadata": {},
   "outputs": [
    {
     "data": {
      "text/plain": [
       "93"
      ]
     },
     "execution_count": 5,
     "metadata": {},
     "output_type": "execute_result"
    }
   ],
   "source": [
    "#total delegados haley\n",
    "delegate_counts['Haley'].sum()"
   ]
  },
  {
   "cell_type": "code",
   "execution_count": 15,
   "metadata": {},
   "outputs": [
    {
     "data": {
      "text/plain": [
       "9"
      ]
     },
     "execution_count": 15,
     "metadata": {},
     "output_type": "execute_result"
    }
   ],
   "source": [
    "#total delegados de sanctis\n",
    "delegate_counts['DeSantis'].sum()"
   ]
  },
  {
   "cell_type": "code",
   "execution_count": null,
   "metadata": {},
   "outputs": [
    {
     "name": "stdout",
     "output_type": "stream",
     "text": [
      "['District of Columbia >', 'Vermont >']\n"
     ]
    }
   ],
   "source": [
    "#estados donde haley tuvo mas delegados\n",
    "estados_haley = delegate_counts[delegate_counts['Haley'] > delegate_counts['Trump']]['State']\n",
    "print(estados_haley.tolist())"
   ]
  },
  {
   "cell_type": "code",
   "execution_count": null,
   "metadata": {},
   "outputs": [],
   "source": [
    "#estados donde gano trump la cuenta de delegados\n",
    "estados_trump = delegate_counts[delegate_counts['Trump'] > delegate_counts['Haley']]['State']\n",
    "print(estados_trump.to_list)"
   ]
  },
  {
   "cell_type": "code",
   "execution_count": null,
   "metadata": {},
   "outputs": [],
   "source": [
    "#estados donde TODOS los delegados fueron para Trump\n",
    "trump_todos = delegate_counts[delegate_counts['Total delegates'] == delegate_counts['Trump']]['State']\n",
    "print(trump_todos.to_list)"
   ]
  },
  {
   "cell_type": "markdown",
   "metadata": {},
   "source": [
    "TODOS LOS PARTIDOS CANDIDATOS."
   ]
  },
  {
   "cell_type": "code",
   "execution_count": null,
   "metadata": {},
   "outputs": [
    {
     "name": "stdout",
     "output_type": "stream",
     "text": [
      "          party           name date_announced date_withdrawn\n",
      "3      democrat  Kamala Harris       7/1/2024            NaN\n",
      "4   independent    Cornel West       6/5/2023            NaN\n",
      "5   libertarian   Oliver Chase       4/4/2023            NaN\n",
      "6         green     Jill Stein      11/9/2023            NaN\n",
      "10   republican   Donald Trump     11/16/2022            NaN\n"
     ]
    }
   ],
   "source": [
    "#CANDIDATOS QUE LLEGARON HASTA EL FINAL, que no se retiraron\n",
    "candidatos_final = candidates[candidates['date_withdrawn'].isna()]\n",
    "print(candidatos_final)"
   ]
  },
  {
   "cell_type": "code",
   "execution_count": null,
   "metadata": {},
   "outputs": [
    {
     "name": "stdout",
     "output_type": "stream",
     "text": [
      "['democrat' 'independent' 'libertarian' 'green' 'republican']\n"
     ]
    }
   ],
   "source": [
    "#partidos\n",
    "print(candidates['party'].unique())"
   ]
  }
 ],
 "metadata": {
  "kernelspec": {
   "display_name": "python1",
   "language": "python",
   "name": "python3"
  },
  "language_info": {
   "codemirror_mode": {
    "name": "ipython",
    "version": 3
   },
   "file_extension": ".py",
   "mimetype": "text/x-python",
   "name": "python",
   "nbconvert_exporter": "python",
   "pygments_lexer": "ipython3",
   "version": "3.12.4"
  }
 },
 "nbformat": 4,
 "nbformat_minor": 2
}
