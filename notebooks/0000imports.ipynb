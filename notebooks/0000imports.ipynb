{
 "cells": [
  {
   "cell_type": "code",
   "execution_count": 1,
   "metadata": {},
   "outputs": [
    {
     "name": "stdout",
     "output_type": "stream",
     "text": [
      "Path del proyecto cargado: C:/Users/Lenovo/Desktop/Escritorio/Datos/python/data/elecciones_usa24\n",
      "Entorno configurado y variables de entorno cargadas.\n",
      "Librerías importadas y configuradas correctamente.\n"
     ]
    }
   ],
   "source": [
    "# === Configuración de Rutas ===\n",
    "import os\n",
    "import sys\n",
    "\n",
    "# Agregar la raíz del proyecto al sys.path\n",
    "project_root = os.path.abspath(\"..\")  # Ajusta si el notebook está en otra carpeta\n",
    "if project_root not in sys.path:\n",
    "    sys.path.append(project_root)\n",
    "\n",
    "# === Configuración del Entorno ===\n",
    "from src import configurar_entorno\n",
    "from dotenv import load_dotenv\n",
    "\n",
    "# Configurar entorno y cargar variables del archivo .env\n",
    "configurar_entorno()\n",
    "load_dotenv()\n",
    "\n",
    "print(\"Entorno configurado y variables de entorno cargadas.\")\n",
    "\n",
    "# === Librerías Estándar ===\n",
    "from datetime import datetime\n",
    "\n",
    "# === Librerías para Análisis de Datos ===\n",
    "import pandas as pd\n",
    "import numpy as np\n",
    "\n",
    "# === Librerías para Visualización ===\n",
    "import matplotlib.pyplot as plt\n",
    "import seaborn as sns\n",
    "\n",
    "# Configuración de visualizaciones\n",
    "sns.set(style=\"whitegrid\", palette=\"pastel\")\n",
    "plt.rcParams['figure.figsize'] = (10, 6)\n",
    "\n",
    "print(\"Librerías importadas y configuradas correctamente.\")\n",
    "\n",
    "\n",
    "\n"
   ]
  }
 ],
 "metadata": {
  "kernelspec": {
   "display_name": "python1",
   "language": "python",
   "name": "python3"
  },
  "language_info": {
   "codemirror_mode": {
    "name": "ipython",
    "version": 3
   },
   "file_extension": ".py",
   "mimetype": "text/x-python",
   "name": "python",
   "nbconvert_exporter": "python",
   "pygments_lexer": "ipython3",
   "version": "3.12.4"
  }
 },
 "nbformat": 4,
 "nbformat_minor": 2
}
