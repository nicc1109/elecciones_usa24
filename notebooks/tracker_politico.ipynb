{
 "cells": [
  {
   "cell_type": "code",
   "execution_count": null,
   "metadata": {},
   "outputs": [
    {
     "name": "stdout",
     "output_type": "stream",
     "text": [
      "Path del proyecto cargado: C:/Users/Lenovo/Desktop/Escritorio/Datos/python/data/elecciones_usa24\n",
      "Entorno configurado y variables de entorno cargadas.\n",
      "Librerías importadas y configuradas correctamente.\n"
     ]
    }
   ],
   "source": [
    "%run setup.pyb"
   ]
  },
  {
   "cell_type": "code",
   "execution_count": 2,
   "metadata": {},
   "outputs": [],
   "source": [
    "import pandas as pd"
   ]
  },
  {
   "cell_type": "code",
   "execution_count": 6,
   "metadata": {},
   "outputs": [
    {
     "name": "stdout",
     "output_type": "stream",
     "text": [
      "Guardado ../documentos_extra/debate20240121__detailed.csv\n",
      "Guardado ../documentos_extra/debate20240121__formatted.csv\n",
      "Guardado ../documentos_extra/debate20240110__detailed.csv\n",
      "Guardado ../documentos_extra/debate20240110__formatted.csv\n",
      "Guardado ../documentos_extra/debate20231206__detailed.csv\n",
      "Guardado ../documentos_extra/debate20231206__formatted.csv\n",
      "Guardado ../documentos_extra/debate20231108__detailed.csv\n",
      "Guardado ../documentos_extra/debate20231108__formatted.csv\n",
      "Guardado ../documentos_extra/debate20230927__detailed.csv\n",
      "Guardado ../documentos_extra/debate20230927__formatted.csv\n",
      "Guardado ../documentos_extra/debate20230823__detailed.csv\n",
      "Guardado ../documentos_extra/debate20230823__formatted.csv\n"
     ]
    }
   ],
   "source": [
    "archivo_excel = '../documentos_extra/tracker_politico.xlsx'\n",
    "carpeta_salida = '../documentos_extra/'\n",
    "\n",
    "import os\n",
    "os.makedirs(carpeta_salida, exist_ok=True)  \n",
    "\n",
    "hojas = pd.read_excel(archivo_excel, sheet_name=None).keys()\n",
    "\n",
    "for hoja in hojas:\n",
    "    df = pd.read_excel(archivo_excel, sheet_name=hoja)\n",
    "    nombre_csv = f\"{carpeta_salida}{hoja}.csv\"\n",
    "    df.to_csv(nombre_csv, index=False)\n",
    "    print(f\"Guardado {nombre_csv}\")"
   ]
  },
  {
   "cell_type": "code",
   "execution_count": 8,
   "metadata": {},
   "outputs": [],
   "source": [
    "del archivo_excel, carpeta_salida, df, hoja, hojas, nombre_csv, tracker_politico"
   ]
  },
  {
   "cell_type": "markdown",
   "metadata": {},
   "source": [
    "#esto viene de un tracker que hizo politico. \n",
    "##sigue a los criterios del GOP para clasificar a los debates presidenciales de acuerdo\n",
    "con polls y fundraising "
   ]
  },
  {
   "cell_type": "markdown",
   "metadata": {},
   "source": [
    "https://docs.google.com/spreadsheets/d/1eIr6uYF5C_wU8KiBRuW7iTY_2Si9H0Ij06ux50ogQMk/edit?gid=146700960#gid=146700960"
   ]
  },
  {
   "cell_type": "code",
   "execution_count": 7,
   "metadata": {},
   "outputs": [],
   "source": [
    "from src import cargar_csv"
   ]
  },
  {
   "cell_type": "code",
   "execution_count": 9,
   "metadata": {},
   "outputs": [],
   "source": [
    "primer_debate = cargar_csv('../documentos_extra/tracker_politico/debate20230823__detailed.csv')\n",
    "segundo_debate = cargar_csv('../documentos_extra/tracker_politico/debate20230927__detailed.csv')\n",
    "tercer_debate = cargar_csv('../documentos_extra/tracker_politico/debate20231108__detailed.csv')\n",
    "cuarto_debate = cargar_csv('../documentos_extra/tracker_politico/debate20240110__detailed.csv')\n",
    "debate_final = cargar_csv('../documentos_extra/tracker_politico/debate20240121__detailed.csv')"
   ]
  }
 ],
 "metadata": {
  "kernelspec": {
   "display_name": "python1",
   "language": "python",
   "name": "python3"
  },
  "language_info": {
   "codemirror_mode": {
    "name": "ipython",
    "version": 3
   },
   "file_extension": ".py",
   "mimetype": "text/x-python",
   "name": "python",
   "nbconvert_exporter": "python",
   "pygments_lexer": "ipython3",
   "version": "3.12.4"
  }
 },
 "nbformat": 4,
 "nbformat_minor": 2
}
