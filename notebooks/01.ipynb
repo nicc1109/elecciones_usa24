{
 "cells": [
  {
   "cell_type": "code",
   "execution_count": 3,
   "metadata": {},
   "outputs": [],
   "source": [
    "import pandas as pd\n",
    "import matplotlib.pyplot as plt\n",
    "import os"
   ]
  },
  {
   "cell_type": "code",
   "execution_count": null,
   "metadata": {},
   "outputs": [],
   "source": [
    "# Diccionario para almacenar los DataFrames\n",
    "dataframes = {}\n",
    "\n",
    "# Lista de rutas de los archivos .csv\n",
    "archivos = [\n",
    "    r\"C:\\Users\\Lenovo\\Desktop\\Escritorio\\Datos\\python\\data\\elecciones_usa24\\elecciones_usa24\\elecc_usa24\\approval_ratings\\approval_averages.csv\",\n",
    "    r\"C:\\Users\\Lenovo\\Desktop\\Escritorio\\Datos\\python\\data\\elecciones_usa24\\elecciones_usa24\\elecc_usa24\\approval_ratings\\approval_topline.csv\",\n",
    "    r\"C:\\Users\\Lenovo\\Desktop\\Escritorio\\Datos\\python\\data\\elecciones_usa24\\elecciones_usa24\\elecc_usa24\\approval_ratings\\president_approval_polls_historical.csv\",\n",
    "    r\"C:\\Users\\Lenovo\\Desktop\\Escritorio\\Datos\\python\\data\\elecciones_usa24\\elecciones_usa24\\elecc_usa24\\may_polls\\president_polls_rtw.csv\",\n",
    "    r\"C:\\Users\\Lenovo\\Desktop\\Escritorio\\Datos\\python\\data\\elecciones_usa24\\elecciones_usa24\\elecc_usa24\\may_polls\\pres_polls_538_may.csv\",\n",
    "    r\"C:\\Users\\Lenovo\\Desktop\\Escritorio\\Datos\\python\\data\\elecciones_usa24\\elecciones_usa24\\elecc_usa24\\polls\\polls\\generic_ballot_polls.csv\",\n",
    "    r\"C:\\Users\\Lenovo\\Desktop\\Escritorio\\Datos\\python\\data\\elecciones_usa24\\elecciones_usa24\\elecc_usa24\\polls\\polls\\generic_ballot_polls_historical.csv\",\n",
    "    r\"C:\\Users\\Lenovo\\Desktop\\Escritorio\\Datos\\python\\data\\elecciones_usa24\\elecciones_usa24\\elecc_usa24\\polls\\polls\\governor_polls.csv\",\n",
    "    r\"C:\\Users\\Lenovo\\Desktop\\Escritorio\\Datos\\python\\data\\elecciones_usa24\\elecciones_usa24\\elecc_usa24\\polls\\polls\\governor_polls_historical.csv\",\n",
    "    r\"C:\\Users\\Lenovo\\Desktop\\Escritorio\\Datos\\python\\data\\elecciones_usa24\\elecciones_usa24\\elecc_usa24\\polls\\polls\\house_polls.csv\",\n",
    "    r\"C:\\Users\\Lenovo\\Desktop\\Escritorio\\Datos\\python\\data\\elecciones_usa24\\elecciones_usa24\\elecc_usa24\\polls\\polls\\house_polls_historical.csv\",\n",
    "    r\"C:\\Users\\Lenovo\\Desktop\\Escritorio\\Datos\\python\\data\\elecciones_usa24\\elecciones_usa24\\elecc_usa24\\polls\\polls\\presidential_poll_averages_2020.csv\",\n",
    "    r\"C:\\Users\\Lenovo\\Desktop\\Escritorio\\Datos\\python\\data\\elecciones_usa24\\elecciones_usa24\\elecc_usa24\\polls\\polls\\president_approval_polls.csv\",\n",
    "    r\"C:\\Users\\Lenovo\\Desktop\\Escritorio\\Datos\\python\\data\\elecciones_usa24\\elecciones_usa24\\elecc_usa24\\polls\\polls\\president_polls.csv\",\n",
    "    r\"C:\\Users\\Lenovo\\Desktop\\Escritorio\\Datos\\python\\data\\elecciones_usa24\\elecciones_usa24\\elecc_usa24\\polls\\polls\\president_polls_historical.csv\",\n",
    "    r\"C:\\Users\\Lenovo\\Desktop\\Escritorio\\Datos\\python\\data\\elecciones_usa24\\elecciones_usa24\\elecc_usa24\\polls\\polls\\president_primary_polls.csv\",\n",
    "    r\"C:\\Users\\Lenovo\\Desktop\\Escritorio\\Datos\\python\\data\\elecciones_usa24\\elecciones_usa24\\elecc_usa24\\polls\\polls\\president_primary_polls_historical.csv\",\n",
    "    r\"C:\\Users\\Lenovo\\Desktop\\Escritorio\\Datos\\python\\data\\elecciones_usa24\\elecciones_usa24\\elecc_usa24\\polls\\polls\\pres_pollaverages_1968-2016.csv\",\n",
    "    r\"C:\\Users\\Lenovo\\Desktop\\Escritorio\\Datos\\python\\data\\elecciones_usa24\\elecciones_usa24\\elecc_usa24\\polls\\polls\\pres_primary_avgs_1980-2016.csv\",\n",
    "    r\"C:\\Users\\Lenovo\\Desktop\\Escritorio\\Datos\\python\\data\\elecciones_usa24\\elecciones_usa24\\elecc_usa24\\polls\\polls\\pres_primary_avgs_2020.csv\",\n",
    "    r\"C:\\Users\\Lenovo\\Desktop\\Escritorio\\Datos\\python\\data\\elecciones_usa24\\elecciones_usa24\\elecc_usa24\\polls\\polls\\senate_polls.csv\",\n",
    "    r\"C:\\Users\\Lenovo\\Desktop\\Escritorio\\Datos\\python\\data\\elecciones_usa24\\elecciones_usa24\\elecc_usa24\\polls\\polls\\senate_polls_historical.csv\",\n",
    "    r\"C:\\Users\\Lenovo\\Desktop\\Escritorio\\Datos\\python\\data\\elecciones_usa24\\elecciones_usa24\\elecc_usa24\\polls\\polls\\september_polls.csv\",\n",
    "    r\"C:\\Users\\Lenovo\\Desktop\\Escritorio\\Datos\\python\\data\\elecciones_usa24\\elecciones_usa24\\elecc_usa24\\sep_oct_polls\\538_polls.csv\",\n",
    "    r\"C:\\Users\\Lenovo\\Desktop\\Escritorio\\Datos\\python\\data\\elecciones_usa24\\elecciones_usa24\\elecc_usa24\\candidates.csv\",\n",
    "    r\"C:\\Users\\Lenovo\\Desktop\\Escritorio\\Datos\\python\\data\\elecciones_usa24\\elecciones_usa24\\elecc_usa24\\delegate_counts.csv\",\n",
    "    r\"C:\\Users\\Lenovo\\Desktop\\Escritorio\\Datos\\python\\data\\elecciones_usa24\\elecciones_usa24\\elecc_usa24\\favorability_polls.csv\",\n",
    "    r\"C:\\Users\\Lenovo\\Desktop\\Escritorio\\Datos\\python\\data\\elecciones_usa24\\elecciones_usa24\\elecc_usa24\\primaries_and_caucuses.csv\"\n",
    "]\n",
    "\n",
    "# Leer cada archivo y asignar un DataFrame\n",
    "for archivo in archivos:\n",
    "    nombre_df = os.path.basename(archivo).split('.')[0]  # Obtener el nombre del archivo sin extensión\n",
    "    print(f\"Leyendo archivo: {nombre_df}\")\n",
    "    dataframes[nombre_df] = pd.read_csv(archivo)  # Leer el archivo y asignarlo al diccionario\n",
    "\n",
    "# Mostrar los nombres de los DataFrames creados\n",
    "print(\"DataFrames creados:\")\n",
    "print(list(dataframes.keys()))"
   ]
  },
  {
   "cell_type": "code",
   "execution_count": 5,
   "metadata": {},
   "outputs": [],
   "source": [
    "candidates = dataframes['candidates']\n",
    "primaries_and_caucases = dataframes['primaries_and_caucuses']\n",
    "delegate_counts = dataframes['delegate_counts']\n",
    "favorability_polls = dataframes['favorability_polls']"
   ]
  },
  {
   "cell_type": "code",
   "execution_count": 6,
   "metadata": {},
   "outputs": [],
   "source": [
    "septoct_polls = dataframes['538_polls']\n",
    "may_polls1 = dataframes['pres_polls_538_may']\n",
    "may_polls2 = dataframes['president_polls_rtw']\n",
    "approval_biden = dataframes['approval_topline']\n",
    "approval_presidents = dataframes['president_approval_polls_historical']\n",
    "approval_institutions = dataframes['approval_averages']\n",
    "september_polls = dataframes['september_polls']\n",
    "pres_poll_average = dataframes['presidential_poll_averages_2020']\n",
    "president_primary_polls = dataframes['president_primary_polls']\n",
    "president_primary_historical = dataframes['president_primary_polls_historical']\n",
    "president_polls = dataframes['president_polls']\n",
    "president_polls_historical = dataframes['president_polls_historical']\n",
    "president_approval_polls = dataframes['president_approval_polls']\n",
    "pres_primary_avgs_2020 = dataframes['pres_primary_avgs_2020']"
   ]
  }
 ],
 "metadata": {
  "kernelspec": {
   "display_name": "python1",
   "language": "python",
   "name": "python3"
  },
  "language_info": {
   "codemirror_mode": {
    "name": "ipython",
    "version": 3
   },
   "file_extension": ".py",
   "mimetype": "text/x-python",
   "name": "python",
   "nbconvert_exporter": "python",
   "pygments_lexer": "ipython3",
   "version": "3.12.4"
  }
 },
 "nbformat": 4,
 "nbformat_minor": 2
}
