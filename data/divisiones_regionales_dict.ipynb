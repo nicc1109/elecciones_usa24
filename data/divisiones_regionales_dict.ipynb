{
 "cells": [
  {
   "cell_type": "raw",
   "metadata": {
    "vscode": {
     "languageId": "raw"
    }
   },
   "source": [
    "1. Regiones del Censo de Estados Unidos\n",
    "División oficial creada por el Census Bureau para facilitar la recolección de datos estadísticos. \n",
    "Estas regiones muestran diferencias demográficas, culturales y políticas.\n",
    "\n",
    "a) Noreste\n",
    "Historia: Cuna de la Revolución Americana y del desarrollo industrial temprano. Estados como Massachusetts y \n",
    "Pennsylvania jugaron roles clave en la independencia.\n",
    "Sociología: Alta densidad de población, centros urbanos como Nueva York y Boston. Educación y finanzas son pilares económicos.\n",
    "Política: Tiende a ser liberal y a favor del Partido Demócrata.\n",
    "b) Medio Oeste\n",
    "Historia: El \"granero\" de América, motor de la industrialización durante el siglo XIX.\n",
    "Sociología: Combinación de zonas urbanas industriales (Chicago, Detroit) y áreas rurales agrícolas.\n",
    "Política: Considerado el corazón de los swing states como Ohio y Michigan. El descontento por la desindustrialización ha \n",
    "cambiado sus tendencias políticas.\n",
    "c) Sur\n",
    "Historia: Región clave durante la Guerra Civil y la Reconstrucción. Durante gran parte del siglo XX, fue conservador y \n",
    "demócrata hasta la \"realineación del Sur\".\n",
    "Sociología: Profundamente influenciado por la religión, especialmente protestante evangélica.\n",
    "Política: Bastión republicano, aunque estados como Georgia han mostrado un cambio hacia los demócratas recientemente.\n",
    "d) Oeste\n",
    "Historia: Colonización tardía, fiebre del oro y expansión ferroviaria en el siglo XIX. Enfoque en el individualismo y la innovación.\n",
    "Sociología: Mezcla diversa, con fuerte inmigración latina y asiática.\n",
    "Política: Estados como California y Oregón son progresistas, mientras que otros como Arizona y Utah son más conservadores."
   ]
  },
  {
   "cell_type": "code",
   "execution_count": 1,
   "metadata": {},
   "outputs": [],
   "source": [
    "regiones_censo = {\n",
    "    \"Noreste\": [\n",
    "        \"Connecticut\", \"Maine\", \"Massachusetts\", \"New Hampshire\",\n",
    "        \"Rhode Island\", \"Vermont\", \"New Jersey\", \"New York\", \"Pennsylvania\"\n",
    "    ],\n",
    "    \"Medio Oeste\": [\n",
    "        \"Illinois\", \"Indiana\", \"Iowa\", \"Kansas\", \"Michigan\", \"Minnesota\",\n",
    "        \"Missouri\", \"Nebraska\", \"North Dakota\", \"Ohio\", \"South Dakota\", \"Wisconsin\"\n",
    "    ],\n",
    "    \"Sur\": [\n",
    "        \"Alabama\", \"Arkansas\", \"Delaware\", \"Florida\", \"Georgia\", \"Kentucky\", \n",
    "        \"Louisiana\", \"Maryland\", \"Mississippi\", \"North Carolina\", \"Oklahoma\", \n",
    "        \"South Carolina\", \"Tennessee\", \"Texas\", \"Virginia\", \"West Virginia\"\n",
    "    ],\n",
    "    \"Oeste\": [\n",
    "        \"Alaska\", \"Arizona\", \"California\", \"Colorado\", \"Hawaii\", \"Idaho\", \n",
    "        \"Montana\", \"Nevada\", \"New Mexico\", \"Oregon\", \"Utah\", \"Washington\", \"Wyoming\"\n",
    "    ]\n",
    "}\n"
   ]
  },
  {
   "cell_type": "raw",
   "metadata": {
    "vscode": {
     "languageId": "raw"
    }
   },
   "source": [
    "2. Cinturones Geográficos y Económicos\n",
    "Agrupaciones informales basadas en la economía y la cultura regional.\n",
    "\n",
    "a) Rust Belt\n",
    "Historia: Región industrial clave durante el siglo XX, conocida por la manufactura y la industria automotriz.\n",
    "Sociología: Población trabajadora blanca de clase media. Ha sufrido desindustrialización y pérdida de empleo.\n",
    "Política: Tradicionalmente demócrata, pero la desindustrialización ha llevado a un viraje hacia Trump en 2016.\n",
    "b) Sun Belt\n",
    "Historia: Crecimiento económico y poblacional post-Segunda Guerra Mundial debido al clima cálido y las políticas fiscales favorables.\n",
    "Sociología: Gran diversidad étnica y migración interna desde el Norte.\n",
    "Política: Tradicionalmente republicano, pero el crecimiento de minorías está haciendo que estados como Arizona y Texas se \n",
    "vuelvan más competitivos.\n",
    "c) Bible Belt\n",
    "Historia: La influencia religiosa comenzó a consolidarse en el siglo XIX. Dominado por el protestantismo evangélico.\n",
    "Sociología: Altamente religioso, con una moral conservadora en temas sociales.\n",
    "Política: Fuerte inclinación hacia el Partido Republicano debido a posturas conservadoras.\n",
    "d) Farm Belt\n",
    "Historia: Principal área agrícola de Estados Unidos, desarrollada a medida que los colonos se expandían hacia el oeste.\n",
    "Sociología: Comunidades rurales, dependientes de la agricultura y los subsidios agrícolas.\n",
    "Política: Fuerte apoyo a los republicanos, especialmente en temas relacionados con la agricultura y el comercio."
   ]
  },
  {
   "cell_type": "code",
   "execution_count": 2,
   "metadata": {},
   "outputs": [],
   "source": [
    "cinturones_geograficos = {\n",
    "    \"Rust Belt\": [\"Illinois\", \"Indiana\", \"Michigan\", \"Ohio\", \"Pennsylvania\", \"Wisconsin\"],\n",
    "    \"Sun Belt\": [\n",
    "        \"Arizona\", \"California\", \"Florida\", \"Georgia\", \"Nevada\", \"New Mexico\", \n",
    "        \"North Carolina\", \"South Carolina\", \"Texas\"\n",
    "    ],\n",
    "    \"Bible Belt\": [\n",
    "        \"Alabama\", \"Arkansas\", \"Florida\", \"Georgia\", \"Kentucky\", \"Louisiana\", \n",
    "        \"Mississippi\", \"Missouri\", \"North Carolina\", \"Oklahoma\", \"South Carolina\", \n",
    "        \"Tennessee\", \"Texas\", \"Virginia\", \"West Virginia\"\n",
    "    ],\n",
    "    \"Farm Belt\": [\"Iowa\", \"Kansas\", \"Minnesota\", \"Nebraska\", \"North Dakota\", \"South Dakota\"]\n",
    "}\n"
   ]
  },
  {
   "cell_type": "raw",
   "metadata": {},
   "source": [
    "Estados que cambian de partido entre elecciones, fundamentales para decidir elecciones presidenciales.\n",
    "\n",
    "Historia: Su importancia se ha mantenido desde mediados del siglo XX.\n",
    "Sociología: Población diversa con áreas urbanas, suburbanas y rurales equilibradas.\n",
    "Política: Florida, Pennsylvania y Arizona son ejemplos. Las campañas presidenciales suelen enfocarse en estos estados."
   ]
  },
  {
   "cell_type": "code",
   "execution_count": 3,
   "metadata": {},
   "outputs": [],
   "source": [
    "swing_states = {\n",
    "    \"Estados Péndulo\": [\"Arizona\", \"Florida\", \"Georgia\", \"Michigan\", \"Nevada\", \"North Carolina\", \"Pennsylvania\", \"Wisconsin\"]\n",
    "}\n"
   ]
  },
  {
   "cell_type": "raw",
   "metadata": {},
   "source": [
    "4. División por Áreas Urbanas, Suburbanas y Rurales\n",
    "Diferencias sociológicas marcadas por la densidad de población y el acceso a recursos.\n",
    "\n",
    "a) Áreas Urbanas\n",
    "Historia: Centros industriales y económicos desde la Revolución Industrial.\n",
    "Sociología: Diversidad étnica, alta educación y cultura progresista.\n",
    "Política: Fuerte inclinación hacia los demócratas.\n",
    "b) Áreas Suburbanas\n",
    "Historia: Desarrollo masivo después de la Segunda Guerra Mundial, con el crecimiento de las clases medias.\n",
    "Sociología: Menos densas que las áreas urbanas, pero más conectadas económicamente.\n",
    "Política: Tienden a fluctuar entre demócratas y republicanos.\n",
    "c) Áreas Rurales\n",
    "Historia: Predominantemente agrícolas, con una influencia fuerte de valores tradicionales.\n",
    "Sociología: Más homogéneas, menos diversidad étnica.\n",
    "Política: Bastión del Partido Republicano.\n"
   ]
  },
  {
   "cell_type": "code",
   "execution_count": 4,
   "metadata": {},
   "outputs": [],
   "source": [
    "areas = {\n",
    "    \"Urbanas\": [\"California\", \"New York\", \"Illinois\", \"Massachusetts\", \"Washington D.C.\"],\n",
    "    \"Suburbanas\": [\"Virginia\", \"Colorado\", \"North Carolina\", \"Georgia\", \"Nevada\"],\n",
    "    \"Rurales\": [\"Wyoming\", \"Montana\", \"West Virginia\", \"Arkansas\", \"North Dakota\"]\n",
    "}\n"
   ]
  },
  {
   "cell_type": "raw",
   "metadata": {
    "vscode": {
     "languageId": "raw"
    }
   },
   "source": [
    "5. Línea Mason-Dixon (División Norte-Sur)\n",
    "Historia: Originalmente usada para resolver una disputa territorial, se convirtió en un símbolo de la división entre el Norte abolicionista \n",
    "y el Sur esclavista.\n",
    "Sociología: Refleja una diferencia cultural y económica duradera.\n",
    "Política: Aunque la Guerra Civil terminó hace más de un siglo, las divisiones culturales aún afectan las inclinaciones políticas."
   ]
  },
  {
   "cell_type": "code",
   "execution_count": 5,
   "metadata": {},
   "outputs": [],
   "source": [
    "mason_dixon_line = {\n",
    "    \"Norte\": [\"Delaware\", \"Maryland\", \"Pennsylvania\", \"New Jersey\"],\n",
    "    \"Sur\": [\"West Virginia\", \"Virginia\", \"North Carolina\", \"South Carolina\", \"Georgia\"]\n",
    "}\n"
   ]
  },
  {
   "cell_type": "raw",
   "metadata": {
    "vscode": {
     "languageId": "raw"
    }
   },
   "source": [
    "Conclusión\n",
    "Estas divisiones reflejan la complejidad sociopolítica de Estados Unidos. Desde regiones con industrias en \n",
    "decadencia hasta zonas de crecimiento demográfico acelerado, estas categorizaciones permiten analizar cómo cultura, \n",
    "historia y economía impactan las dinámicas electorales y las tendencias políticas."
   ]
  }
 ],
 "metadata": {
  "kernelspec": {
   "display_name": "python1",
   "language": "python",
   "name": "python3"
  },
  "language_info": {
   "codemirror_mode": {
    "name": "ipython",
    "version": 3
   },
   "file_extension": ".py",
   "mimetype": "text/x-python",
   "name": "python",
   "nbconvert_exporter": "python",
   "pygments_lexer": "ipython3",
   "version": "3.12.4"
  }
 },
 "nbformat": 4,
 "nbformat_minor": 2
}
